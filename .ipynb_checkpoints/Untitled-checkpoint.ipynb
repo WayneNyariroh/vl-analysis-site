{
 "cells": [
  {
   "cell_type": "code",
   "execution_count": 1,
   "id": "f7280ec3-b7ec-47ee-83fd-ffa849e5c49a",
   "metadata": {},
   "outputs": [],
   "source": [
    "import pandas as pd\n",
    "import datetime as dt\n",
    "from dateutil.relativedelta import relativedelta\n",
    "from datetime import date\n",
    "\n",
    "import warnings \n",
    "warnings.filterwarnings(\"ignore\")"
   ]
  },
  {
   "cell_type": "code",
   "execution_count": 6,
   "id": "9edf502d-5f05-4bca-b489-1539f04c177f",
   "metadata": {},
   "outputs": [],
   "source": [
    "data_source = \"Active on ART Patients Linelist_May-2024.csv\"\n",
    "\n",
    "df = pd.read_csv(data_source, \n",
    "                 usecols=['CCC No', 'Sex', 'Age at reporting','Art Start Date','Last VL Result','Last VL Date', 'Active in PMTCT', 'Self Visit Date','Next Appointment Date'], \n",
    "                 parse_dates=['Art Start Date','Last VL Date','Self Visit Date','Next Appointment Date'])  \n",
    "\n",
    "df.columns = (df.columns.str.replace(\" \",\"_\").str.lower())\n",
    "df.rename(columns = {\"age_at_reporting\":\"age\",\"self_visit_date\":\"last_self_visit\"}, inplace=True)\n",
    "\n",
    "df.art_start_date = pd.to_datetime(df.art_start_date)\n",
    "df.last_vl_date = pd.to_datetime(df.last_vl_date)\n",
    "df.last_self_visit = pd.to_datetime(df.last_self_visit)\n",
    "df.next_appointment_date = pd.to_datetime(df.next_appointment_date)"
   ]
  },
  {
   "cell_type": "code",
   "execution_count": null,
   "id": "1d7889ed-db85-4a70-8775-9d406a28f72c",
   "metadata": {},
   "outputs": [],
   "source": [
    "#elligible for VL - on ART for more than 3 months\n",
    "elligible_df = active_art_df[~(df.art_start_date > pd.to_datetime(date.today() + relativedelta(months=-3)))]"
   ]
  },
  {
   "cell_type": "code",
   "execution_count": null,
   "id": "0bdbbc9f-042a-40dd-9d0d-67634a600046",
   "metadata": {},
   "outputs": [],
   "source": [
    "#vl not in the last year\n",
    "pmtct_art = 'Yes'\n",
    "elligible_df[elligible_df.last_vl_date < pd.to_datetime(date.today() + relativedelta(months=-12))].query('age > 24').query('active_in_pmtct != @pmtct_art')\n",
    "#exclude pmctc yes"
   ]
  },
  {
   "cell_type": "code",
   "execution_count": null,
   "id": "d76af707-f95f-40c1-943b-a273cad24579",
   "metadata": {},
   "outputs": [],
   "source": [
    "#vl not in the last 6 months age below 25 not on pmtct\n",
    "elligible_df[elligible_df.last_vl_date < pd.to_datetime(date.today() + relativedelta(months=-6))].query('age<25').query('active_in_pmtct != @pmtct_art')"
   ]
  },
  {
   "cell_type": "code",
   "execution_count": null,
   "id": "2daac5ff-6e9e-474a-b6cc-ee714a7f8f46",
   "metadata": {},
   "outputs": [],
   "source": [
    "#vl not in the last 6 months pmtct\n",
    "elligible_df[elligible_df.last_vl_date < pd.to_datetime(date.today() + relativedelta(months=-6))].query('active_in_pmtct == @pmtct_art')"
   ]
  },
  {
   "cell_type": "code",
   "execution_count": null,
   "id": "5595d8c8-8319-4d51-bf36-d2211bf432f6",
   "metadata": {},
   "outputs": [],
   "source": [
    "#elligible but with no vl history\n",
    "elligible_df[elligible_df.last_vl_result.isnull()]"
   ]
  },
  {
   "cell_type": "code",
   "execution_count": null,
   "id": "baaee2e0-a44d-490b-bb4a-10e07d8837a7",
   "metadata": {},
   "outputs": [],
   "source": [
    "active_art_df.query('age <19 and age >0').shape[0]"
   ]
  },
  {
   "cell_type": "code",
   "execution_count": null,
   "id": "49c57f83-0cfa-408d-b39d-5194c317d6fd",
   "metadata": {},
   "outputs": [],
   "source": [
    "elligible_df[elligible_df.active_in_pmtct.str.contains('Yes')]"
   ]
  },
  {
   "cell_type": "code",
   "execution_count": null,
   "id": "9a0c71b5-b3a4-4916-bfb4-e0e5ccb466ae",
   "metadata": {},
   "outputs": [],
   "source": [
    "df.differentiated_care_model.unique()"
   ]
  },
  {
   "cell_type": "code",
   "execution_count": null,
   "id": "ede77d53-dc52-425f-b110-a9498582fb0a",
   "metadata": {},
   "outputs": [],
   "source": [
    "#assigning dc status\n",
    "def dc(val):\n",
    "    if val in {'Standard Care'}:\n",
    "        return 'Not On DC'\n",
    "    return 'On DC'\n",
    "\n",
    "(active_art_df.assign(dc_status=df.differentiated_care_model.apply(dc)))"
   ]
  },
  {
   "cell_type": "code",
   "execution_count": 8,
   "id": "80152b3e-11a1-4d3a-b1e3-73e1da2cdb86",
   "metadata": {},
   "outputs": [
    {
     "data": {
      "text/html": [
       "<div>\n",
       "<style scoped>\n",
       "    .dataframe tbody tr th:only-of-type {\n",
       "        vertical-align: middle;\n",
       "    }\n",
       "\n",
       "    .dataframe tbody tr th {\n",
       "        vertical-align: top;\n",
       "    }\n",
       "\n",
       "    .dataframe thead th {\n",
       "        text-align: right;\n",
       "    }\n",
       "</style>\n",
       "<table border=\"1\" class=\"dataframe\">\n",
       "  <thead>\n",
       "    <tr style=\"text-align: right;\">\n",
       "      <th></th>\n",
       "      <th>ccc_no</th>\n",
       "      <th>sex</th>\n",
       "      <th>age</th>\n",
       "      <th>art_start_date</th>\n",
       "      <th>last_vl_result</th>\n",
       "      <th>last_vl_date</th>\n",
       "      <th>active_in_pmtct</th>\n",
       "      <th>last_self_visit</th>\n",
       "      <th>next_appointment_date</th>\n",
       "      <th>age_category</th>\n",
       "    </tr>\n",
       "  </thead>\n",
       "  <tbody>\n",
       "    <tr>\n",
       "      <th>0</th>\n",
       "      <td>1403300035</td>\n",
       "      <td>F</td>\n",
       "      <td>39</td>\n",
       "      <td>2014-02-28</td>\n",
       "      <td>LDL</td>\n",
       "      <td>2023-10-26</td>\n",
       "      <td>No</td>\n",
       "      <td>2024-04-26</td>\n",
       "      <td>2024-10-25</td>\n",
       "      <td>adult</td>\n",
       "    </tr>\n",
       "    <tr>\n",
       "      <th>1</th>\n",
       "      <td>1403300018</td>\n",
       "      <td>F</td>\n",
       "      <td>35</td>\n",
       "      <td>2014-02-27</td>\n",
       "      <td>LDL</td>\n",
       "      <td>2024-01-26</td>\n",
       "      <td>No</td>\n",
       "      <td>2024-04-23</td>\n",
       "      <td>2024-10-22</td>\n",
       "      <td>adult</td>\n",
       "    </tr>\n",
       "    <tr>\n",
       "      <th>2</th>\n",
       "      <td>1403300031</td>\n",
       "      <td>M</td>\n",
       "      <td>40</td>\n",
       "      <td>2014-02-20</td>\n",
       "      <td>LDL</td>\n",
       "      <td>2024-04-17</td>\n",
       "      <td>No</td>\n",
       "      <td>2024-04-17</td>\n",
       "      <td>2024-10-16</td>\n",
       "      <td>adult</td>\n",
       "    </tr>\n",
       "    <tr>\n",
       "      <th>3</th>\n",
       "      <td>1403300032</td>\n",
       "      <td>M</td>\n",
       "      <td>90</td>\n",
       "      <td>2016-09-14</td>\n",
       "      <td>LDL</td>\n",
       "      <td>2023-10-30</td>\n",
       "      <td>No</td>\n",
       "      <td>2024-11-04</td>\n",
       "      <td>2024-09-10</td>\n",
       "      <td>adult</td>\n",
       "    </tr>\n",
       "    <tr>\n",
       "      <th>4</th>\n",
       "      <td>1403300030</td>\n",
       "      <td>F</td>\n",
       "      <td>42</td>\n",
       "      <td>2014-02-20</td>\n",
       "      <td>LDL</td>\n",
       "      <td>2023-10-23</td>\n",
       "      <td>No</td>\n",
       "      <td>2024-01-23</td>\n",
       "      <td>2024-07-22</td>\n",
       "      <td>adult</td>\n",
       "    </tr>\n",
       "    <tr>\n",
       "      <th>...</th>\n",
       "      <td>...</td>\n",
       "      <td>...</td>\n",
       "      <td>...</td>\n",
       "      <td>...</td>\n",
       "      <td>...</td>\n",
       "      <td>...</td>\n",
       "      <td>...</td>\n",
       "      <td>...</td>\n",
       "      <td>...</td>\n",
       "      <td>...</td>\n",
       "    </tr>\n",
       "    <tr>\n",
       "      <th>1082</th>\n",
       "      <td>1403301349</td>\n",
       "      <td>M</td>\n",
       "      <td>48</td>\n",
       "      <td>2024-04-29</td>\n",
       "      <td>NaN</td>\n",
       "      <td>NaT</td>\n",
       "      <td>No</td>\n",
       "      <td>2024-05-29</td>\n",
       "      <td>2024-06-27</td>\n",
       "      <td>adult</td>\n",
       "    </tr>\n",
       "    <tr>\n",
       "      <th>1083</th>\n",
       "      <td>1287604611</td>\n",
       "      <td>F</td>\n",
       "      <td>32</td>\n",
       "      <td>2019-11-09</td>\n",
       "      <td>LDL</td>\n",
       "      <td>2024-05-21</td>\n",
       "      <td>No</td>\n",
       "      <td>2024-05-21</td>\n",
       "      <td>2024-08-19</td>\n",
       "      <td>adult</td>\n",
       "    </tr>\n",
       "    <tr>\n",
       "      <th>1084</th>\n",
       "      <td>1412005513</td>\n",
       "      <td>F</td>\n",
       "      <td>55</td>\n",
       "      <td>2011-08-22</td>\n",
       "      <td>LDL</td>\n",
       "      <td>2024-05-17</td>\n",
       "      <td>No</td>\n",
       "      <td>2024-05-17</td>\n",
       "      <td>2024-06-17</td>\n",
       "      <td>adult</td>\n",
       "    </tr>\n",
       "    <tr>\n",
       "      <th>1085</th>\n",
       "      <td>1336900114</td>\n",
       "      <td>M</td>\n",
       "      <td>50</td>\n",
       "      <td>2020-04-24</td>\n",
       "      <td>LDL</td>\n",
       "      <td>2022-11-26</td>\n",
       "      <td>No</td>\n",
       "      <td>2024-05-23</td>\n",
       "      <td>2024-06-06</td>\n",
       "      <td>adult</td>\n",
       "    </tr>\n",
       "    <tr>\n",
       "      <th>1086</th>\n",
       "      <td>1403301350</td>\n",
       "      <td>F</td>\n",
       "      <td>27</td>\n",
       "      <td>2024-05-29</td>\n",
       "      <td>NaN</td>\n",
       "      <td>NaT</td>\n",
       "      <td>No</td>\n",
       "      <td>2024-05-29</td>\n",
       "      <td>2024-12-06</td>\n",
       "      <td>adult</td>\n",
       "    </tr>\n",
       "  </tbody>\n",
       "</table>\n",
       "<p>1087 rows × 10 columns</p>\n",
       "</div>"
      ],
      "text/plain": [
       "          ccc_no sex  age art_start_date last_vl_result last_vl_date  \\\n",
       "0     1403300035   F   39     2014-02-28            LDL   2023-10-26   \n",
       "1     1403300018   F   35     2014-02-27            LDL   2024-01-26   \n",
       "2     1403300031   M   40     2014-02-20            LDL   2024-04-17   \n",
       "3     1403300032   M   90     2016-09-14            LDL   2023-10-30   \n",
       "4     1403300030   F   42     2014-02-20            LDL   2023-10-23   \n",
       "...          ...  ..  ...            ...            ...          ...   \n",
       "1082  1403301349   M   48     2024-04-29            NaN          NaT   \n",
       "1083  1287604611   F   32     2019-11-09            LDL   2024-05-21   \n",
       "1084  1412005513   F   55     2011-08-22            LDL   2024-05-17   \n",
       "1085  1336900114   M   50     2020-04-24            LDL   2022-11-26   \n",
       "1086  1403301350   F   27     2024-05-29            NaN          NaT   \n",
       "\n",
       "     active_in_pmtct last_self_visit next_appointment_date age_category  \n",
       "0                 No      2024-04-26            2024-10-25        adult  \n",
       "1                 No      2024-04-23            2024-10-22        adult  \n",
       "2                 No      2024-04-17            2024-10-16        adult  \n",
       "3                 No      2024-11-04            2024-09-10        adult  \n",
       "4                 No      2024-01-23            2024-07-22        adult  \n",
       "...              ...             ...                   ...          ...  \n",
       "1082              No      2024-05-29            2024-06-27        adult  \n",
       "1083              No      2024-05-21            2024-08-19        adult  \n",
       "1084              No      2024-05-17            2024-06-17        adult  \n",
       "1085              No      2024-05-23            2024-06-06        adult  \n",
       "1086              No      2024-05-29            2024-12-06        adult  \n",
       "\n",
       "[1087 rows x 10 columns]"
      ]
     },
     "execution_count": 8,
     "metadata": {},
     "output_type": "execute_result"
    }
   ],
   "source": [
    "#assigning age groups\n",
    "def age_group(val):\n",
    "    if val >=0 and val <10:\n",
    "        return 'paeds'\n",
    "    if val >=10 and val <=19:\n",
    "        return 'adolescents'\n",
    "    return 'adult'\n",
    "\n",
    "(active_art_df.assign(age_category=df.age.apply(age_group)))"
   ]
  },
  {
   "cell_type": "code",
   "execution_count": null,
   "id": "76749910-abce-485a-9686-d0eba43aff88",
   "metadata": {},
   "outputs": [],
   "source": [
    "#bins = [0,9,14,19,24,100]\n",
    "#labels = ['pead','teen','adolescenet','young adult','adult']\n",
    "#active_art_df['age_category'] = pd.cut(active_art_df['age'],bins, labels = labels)\n",
    "#active_art_df[active_art_df.age_category.isnull()]"
   ]
  },
  {
   "cell_type": "code",
   "execution_count": 15,
   "id": "e8c13547-67ba-45f7-898b-3cea62789eb3",
   "metadata": {},
   "outputs": [
    {
     "name": "stdout",
     "output_type": "stream",
     "text": [
      "TX Current : 1087\n"
     ]
    }
   ],
   "source": [
    "print(f'TX Current : {active_art_df.shape[0]}')"
   ]
  },
  {
   "cell_type": "code",
   "execution_count": 18,
   "id": "62e7d2ff-6ac5-456e-aac7-d851abd03f13",
   "metadata": {},
   "outputs": [
    {
     "name": "stdout",
     "output_type": "stream",
     "text": [
      "Date : 23/06/2024\n"
     ]
    }
   ],
   "source": [
    "print(f'Date : {date.today().strftime(\"%d/%m/%Y\")}')"
   ]
  },
  {
   "cell_type": "code",
   "execution_count": null,
   "id": "4786e9ac-1c1f-4f22-af3c-c293121bb6f1",
   "metadata": {},
   "outputs": [],
   "source": []
  }
 ],
 "metadata": {
  "kernelspec": {
   "display_name": "Python 3.10.4 ('.venvdataanalyis')",
   "language": "python",
   "name": "python3"
  },
  "language_info": {
   "codemirror_mode": {
    "name": "ipython",
    "version": 3
   },
   "file_extension": ".py",
   "mimetype": "text/x-python",
   "name": "python",
   "nbconvert_exporter": "python",
   "pygments_lexer": "ipython3",
   "version": "3.10.4"
  },
  "vscode": {
   "interpreter": {
    "hash": "f3d5247997b242e2ee84c3d630eeeccac3e67b2682a45443aeb85a33b102e51d"
   }
  }
 },
 "nbformat": 4,
 "nbformat_minor": 5
}
